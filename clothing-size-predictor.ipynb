{
 "cells": [
  {
   "cell_type": "markdown",
   "id": "8fc5efcb",
   "metadata": {
    "papermill": {
     "duration": 0.03601,
     "end_time": "2021-07-19T05:50:53.376438",
     "exception": false,
     "start_time": "2021-07-19T05:50:53.340428",
     "status": "completed"
    },
    "tags": []
   },
   "source": [
    "\n",
    "**Name:** Clothing Size Predictor\n",
    "\n",
    "**Author:** Sharome Burton\n",
    "\n",
    "**Date:** 07/18/2021\n",
    "\n",
    "**Description:** Machine learning model used to predict women's clothing sizes based on historical data on age, weight and height\n",
    "\n",
    "## 1. Problem definition\n",
    "> How well can we predict the appropriate clothing size of for an individual, given age, weight and height?\n",
    "\n",
    "## 2. Data\n",
    "The data file for this project `final_test.csv` can be downloaded from the clothing-size prediction dataset on Kaggle : https://www.kaggle.com/tourist55/clothessizeprediction\n",
    "\n",
    "   \n",
    "## 3. Evaluation \n",
    "\n",
    "> **Goal:** Predict the clothing size of an individual with >95% accuracy\n",
    "\n",
    "## 4. Features\n",
    "\n",
    "* weight (kg)\n",
    "* age (years)\n",
    "* height (cm)"
   ]
  },
  {
   "cell_type": "markdown",
   "id": "a3c19ea1",
   "metadata": {
    "papermill": {
     "duration": 0.033898,
     "end_time": "2021-07-19T05:50:53.446424",
     "exception": false,
     "start_time": "2021-07-19T05:50:53.412526",
     "status": "completed"
    },
    "tags": []
   },
   "source": [
    "### Import libraries"
   ]
  },
  {
   "cell_type": "code",
   "execution_count": 1,
   "id": "ba292e15",
   "metadata": {
    "execution": {
     "iopub.execute_input": "2021-07-19T05:50:53.530760Z",
     "iopub.status.busy": "2021-07-19T05:50:53.530073Z",
     "iopub.status.idle": "2021-07-19T05:50:54.898036Z",
     "shell.execute_reply": "2021-07-19T05:50:54.897037Z",
     "shell.execute_reply.started": "2021-07-19T05:50:02.561414Z"
    },
    "papermill": {
     "duration": 1.416956,
     "end_time": "2021-07-19T05:50:54.898260",
     "exception": false,
     "start_time": "2021-07-19T05:50:53.481304",
     "status": "completed"
    },
    "tags": []
   },
   "outputs": [],
   "source": [
    "# Regular EDA (exploratory data analysis) and plotting libraries\n",
    "import pandas as pd\n",
    "import numpy as np\n",
    "import matplotlib.pyplot as plt\n",
    "import seaborn as sns\n",
    "\n",
    "%matplotlib inline\n",
    "\n",
    "# Models from Scikit-learn\n",
    "from sklearn.linear_model import LogisticRegression\n",
    "from sklearn.neighbors import KNeighborsClassifier\n",
    "from sklearn.ensemble import RandomForestClassifier\n",
    "from sklearn.tree import DecisionTreeClassifier\n",
    "\n",
    "# Model Evaluations\n",
    "from sklearn.model_selection import train_test_split, cross_val_score\n",
    "from sklearn.model_selection import RandomizedSearchCV, GridSearchCV\n",
    "from sklearn.metrics import confusion_matrix, classification_report"
   ]
  },
  {
   "cell_type": "markdown",
   "id": "af8df739",
   "metadata": {
    "papermill": {
     "duration": 0.034732,
     "end_time": "2021-07-19T05:50:54.976541",
     "exception": false,
     "start_time": "2021-07-19T05:50:54.941809",
     "status": "completed"
    },
    "tags": []
   },
   "source": [
    "### Import data"
   ]
  },
  {
   "cell_type": "code",
   "execution_count": 2,
   "id": "956a758b",
   "metadata": {
    "execution": {
     "iopub.execute_input": "2021-07-19T05:50:55.050716Z",
     "iopub.status.busy": "2021-07-19T05:50:55.050058Z",
     "iopub.status.idle": "2021-07-19T05:50:55.185616Z",
     "shell.execute_reply": "2021-07-19T05:50:55.185129Z",
     "shell.execute_reply.started": "2021-07-19T05:50:02.574394Z"
    },
    "papermill": {
     "duration": 0.174631,
     "end_time": "2021-07-19T05:50:55.185750",
     "exception": false,
     "start_time": "2021-07-19T05:50:55.011119",
     "status": "completed"
    },
    "tags": []
   },
   "outputs": [
    {
     "data": {
      "text/html": [
       "<div>\n",
       "<style scoped>\n",
       "    .dataframe tbody tr th:only-of-type {\n",
       "        vertical-align: middle;\n",
       "    }\n",
       "\n",
       "    .dataframe tbody tr th {\n",
       "        vertical-align: top;\n",
       "    }\n",
       "\n",
       "    .dataframe thead th {\n",
       "        text-align: right;\n",
       "    }\n",
       "</style>\n",
       "<table border=\"1\" class=\"dataframe\">\n",
       "  <thead>\n",
       "    <tr style=\"text-align: right;\">\n",
       "      <th></th>\n",
       "      <th>weight</th>\n",
       "      <th>age</th>\n",
       "      <th>height</th>\n",
       "      <th>size</th>\n",
       "    </tr>\n",
       "  </thead>\n",
       "  <tbody>\n",
       "    <tr>\n",
       "      <th>0</th>\n",
       "      <td>62</td>\n",
       "      <td>28.0</td>\n",
       "      <td>172.72</td>\n",
       "      <td>XL</td>\n",
       "    </tr>\n",
       "    <tr>\n",
       "      <th>1</th>\n",
       "      <td>59</td>\n",
       "      <td>36.0</td>\n",
       "      <td>167.64</td>\n",
       "      <td>L</td>\n",
       "    </tr>\n",
       "    <tr>\n",
       "      <th>2</th>\n",
       "      <td>61</td>\n",
       "      <td>34.0</td>\n",
       "      <td>165.10</td>\n",
       "      <td>M</td>\n",
       "    </tr>\n",
       "    <tr>\n",
       "      <th>3</th>\n",
       "      <td>65</td>\n",
       "      <td>27.0</td>\n",
       "      <td>175.26</td>\n",
       "      <td>L</td>\n",
       "    </tr>\n",
       "    <tr>\n",
       "      <th>4</th>\n",
       "      <td>62</td>\n",
       "      <td>45.0</td>\n",
       "      <td>172.72</td>\n",
       "      <td>M</td>\n",
       "    </tr>\n",
       "    <tr>\n",
       "      <th>...</th>\n",
       "      <td>...</td>\n",
       "      <td>...</td>\n",
       "      <td>...</td>\n",
       "      <td>...</td>\n",
       "    </tr>\n",
       "    <tr>\n",
       "      <th>119729</th>\n",
       "      <td>63</td>\n",
       "      <td>42.0</td>\n",
       "      <td>175.26</td>\n",
       "      <td>M</td>\n",
       "    </tr>\n",
       "    <tr>\n",
       "      <th>119730</th>\n",
       "      <td>45</td>\n",
       "      <td>29.0</td>\n",
       "      <td>154.94</td>\n",
       "      <td>S</td>\n",
       "    </tr>\n",
       "    <tr>\n",
       "      <th>119731</th>\n",
       "      <td>61</td>\n",
       "      <td>31.0</td>\n",
       "      <td>172.72</td>\n",
       "      <td>M</td>\n",
       "    </tr>\n",
       "    <tr>\n",
       "      <th>119732</th>\n",
       "      <td>74</td>\n",
       "      <td>31.0</td>\n",
       "      <td>167.64</td>\n",
       "      <td>XL</td>\n",
       "    </tr>\n",
       "    <tr>\n",
       "      <th>119733</th>\n",
       "      <td>70</td>\n",
       "      <td>30.0</td>\n",
       "      <td>167.64</td>\n",
       "      <td>XL</td>\n",
       "    </tr>\n",
       "  </tbody>\n",
       "</table>\n",
       "<p>119734 rows × 4 columns</p>\n",
       "</div>"
      ],
      "text/plain": [
       "        weight   age  height size\n",
       "0           62  28.0  172.72   XL\n",
       "1           59  36.0  167.64    L\n",
       "2           61  34.0  165.10    M\n",
       "3           65  27.0  175.26    L\n",
       "4           62  45.0  172.72    M\n",
       "...        ...   ...     ...  ...\n",
       "119729      63  42.0  175.26    M\n",
       "119730      45  29.0  154.94    S\n",
       "119731      61  31.0  172.72    M\n",
       "119732      74  31.0  167.64   XL\n",
       "119733      70  30.0  167.64   XL\n",
       "\n",
       "[119734 rows x 4 columns]"
      ]
     },
     "execution_count": 2,
     "metadata": {},
     "output_type": "execute_result"
    }
   ],
   "source": [
    "df_raw = pd.read_csv(\"../input/clothessizeprediction/final_test.csv\")\n",
    "df_raw"
   ]
  },
  {
   "cell_type": "code",
   "execution_count": 3,
   "id": "8211f4d5",
   "metadata": {
    "execution": {
     "iopub.execute_input": "2021-07-19T05:50:55.261593Z",
     "iopub.status.busy": "2021-07-19T05:50:55.260953Z",
     "iopub.status.idle": "2021-07-19T05:50:55.293068Z",
     "shell.execute_reply": "2021-07-19T05:50:55.292417Z",
     "shell.execute_reply.started": "2021-07-19T05:50:02.667748Z"
    },
    "papermill": {
     "duration": 0.072138,
     "end_time": "2021-07-19T05:50:55.293213",
     "exception": false,
     "start_time": "2021-07-19T05:50:55.221075",
     "status": "completed"
    },
    "tags": []
   },
   "outputs": [
    {
     "name": "stdout",
     "output_type": "stream",
     "text": [
      "<class 'pandas.core.frame.DataFrame'>\n",
      "RangeIndex: 119734 entries, 0 to 119733\n",
      "Data columns (total 4 columns):\n",
      " #   Column  Non-Null Count   Dtype  \n",
      "---  ------  --------------   -----  \n",
      " 0   weight  119734 non-null  int64  \n",
      " 1   age     119477 non-null  float64\n",
      " 2   height  119404 non-null  float64\n",
      " 3   size    119734 non-null  object \n",
      "dtypes: float64(2), int64(1), object(1)\n",
      "memory usage: 3.7+ MB\n"
     ]
    }
   ],
   "source": [
    "df_raw.info()"
   ]
  },
  {
   "cell_type": "markdown",
   "id": "f518fbd8",
   "metadata": {
    "papermill": {
     "duration": 0.036857,
     "end_time": "2021-07-19T05:50:55.367267",
     "exception": false,
     "start_time": "2021-07-19T05:50:55.330410",
     "status": "completed"
    },
    "tags": []
   },
   "source": [
    "### Exploratory data analysis (EDA)"
   ]
  },
  {
   "cell_type": "code",
   "execution_count": 4,
   "id": "e24d1d82",
   "metadata": {
    "execution": {
     "iopub.execute_input": "2021-07-19T05:50:55.452501Z",
     "iopub.status.busy": "2021-07-19T05:50:55.451793Z",
     "iopub.status.idle": "2021-07-19T05:50:55.488170Z",
     "shell.execute_reply": "2021-07-19T05:50:55.487538Z",
     "shell.execute_reply.started": "2021-07-19T05:50:02.696662Z"
    },
    "papermill": {
     "duration": 0.084943,
     "end_time": "2021-07-19T05:50:55.488326",
     "exception": false,
     "start_time": "2021-07-19T05:50:55.403383",
     "status": "completed"
    },
    "tags": []
   },
   "outputs": [
    {
     "data": {
      "text/html": [
       "<div>\n",
       "<style scoped>\n",
       "    .dataframe tbody tr th:only-of-type {\n",
       "        vertical-align: middle;\n",
       "    }\n",
       "\n",
       "    .dataframe tbody tr th {\n",
       "        vertical-align: top;\n",
       "    }\n",
       "\n",
       "    .dataframe thead th {\n",
       "        text-align: right;\n",
       "    }\n",
       "</style>\n",
       "<table border=\"1\" class=\"dataframe\">\n",
       "  <thead>\n",
       "    <tr style=\"text-align: right;\">\n",
       "      <th></th>\n",
       "      <th>weight</th>\n",
       "      <th>age</th>\n",
       "      <th>height</th>\n",
       "    </tr>\n",
       "  </thead>\n",
       "  <tbody>\n",
       "    <tr>\n",
       "      <th>count</th>\n",
       "      <td>119734.000000</td>\n",
       "      <td>119477.000000</td>\n",
       "      <td>119404.000000</td>\n",
       "    </tr>\n",
       "    <tr>\n",
       "      <th>mean</th>\n",
       "      <td>61.756811</td>\n",
       "      <td>34.027311</td>\n",
       "      <td>165.805794</td>\n",
       "    </tr>\n",
       "    <tr>\n",
       "      <th>std</th>\n",
       "      <td>9.944863</td>\n",
       "      <td>8.149447</td>\n",
       "      <td>6.737651</td>\n",
       "    </tr>\n",
       "    <tr>\n",
       "      <th>min</th>\n",
       "      <td>22.000000</td>\n",
       "      <td>0.000000</td>\n",
       "      <td>137.160000</td>\n",
       "    </tr>\n",
       "    <tr>\n",
       "      <th>25%</th>\n",
       "      <td>55.000000</td>\n",
       "      <td>29.000000</td>\n",
       "      <td>160.020000</td>\n",
       "    </tr>\n",
       "    <tr>\n",
       "      <th>50%</th>\n",
       "      <td>61.000000</td>\n",
       "      <td>32.000000</td>\n",
       "      <td>165.100000</td>\n",
       "    </tr>\n",
       "    <tr>\n",
       "      <th>75%</th>\n",
       "      <td>67.000000</td>\n",
       "      <td>37.000000</td>\n",
       "      <td>170.180000</td>\n",
       "    </tr>\n",
       "    <tr>\n",
       "      <th>max</th>\n",
       "      <td>136.000000</td>\n",
       "      <td>117.000000</td>\n",
       "      <td>193.040000</td>\n",
       "    </tr>\n",
       "  </tbody>\n",
       "</table>\n",
       "</div>"
      ],
      "text/plain": [
       "              weight            age         height\n",
       "count  119734.000000  119477.000000  119404.000000\n",
       "mean       61.756811      34.027311     165.805794\n",
       "std         9.944863       8.149447       6.737651\n",
       "min        22.000000       0.000000     137.160000\n",
       "25%        55.000000      29.000000     160.020000\n",
       "50%        61.000000      32.000000     165.100000\n",
       "75%        67.000000      37.000000     170.180000\n",
       "max       136.000000     117.000000     193.040000"
      ]
     },
     "execution_count": 4,
     "metadata": {},
     "output_type": "execute_result"
    }
   ],
   "source": [
    "df_raw.describe()"
   ]
  },
  {
   "cell_type": "code",
   "execution_count": 5,
   "id": "8ed3adaa",
   "metadata": {
    "execution": {
     "iopub.execute_input": "2021-07-19T05:50:55.591810Z",
     "iopub.status.busy": "2021-07-19T05:50:55.579056Z",
     "iopub.status.idle": "2021-07-19T05:50:55.599911Z",
     "shell.execute_reply": "2021-07-19T05:50:55.599320Z",
     "shell.execute_reply.started": "2021-07-19T05:50:02.733154Z"
    },
    "papermill": {
     "duration": 0.075979,
     "end_time": "2021-07-19T05:50:55.600053",
     "exception": false,
     "start_time": "2021-07-19T05:50:55.524074",
     "status": "completed"
    },
    "tags": []
   },
   "outputs": [
    {
     "data": {
      "text/plain": [
       "M       29712\n",
       "S       21924\n",
       "XXXL    21359\n",
       "XL      19119\n",
       "L       17587\n",
       "XXS      9964\n",
       "XXL        69\n",
       "Name: size, dtype: int64"
      ]
     },
     "execution_count": 5,
     "metadata": {},
     "output_type": "execute_result"
    }
   ],
   "source": [
    "# Number of occurences for each size (target variable)\n",
    "df_raw[\"size\"].value_counts()"
   ]
  },
  {
   "cell_type": "code",
   "execution_count": 6,
   "id": "9a2543c8",
   "metadata": {
    "execution": {
     "iopub.execute_input": "2021-07-19T05:50:55.698177Z",
     "iopub.status.busy": "2021-07-19T05:50:55.690161Z",
     "iopub.status.idle": "2021-07-19T05:50:56.037659Z",
     "shell.execute_reply": "2021-07-19T05:50:56.037127Z",
     "shell.execute_reply.started": "2021-07-19T05:50:02.770120Z"
    },
    "papermill": {
     "duration": 0.400497,
     "end_time": "2021-07-19T05:50:56.037793",
     "exception": false,
     "start_time": "2021-07-19T05:50:55.637296",
     "status": "completed"
    },
    "tags": []
   },
   "outputs": [
    {
     "data": {
      "text/plain": [
       "<AxesSubplot:xlabel='size', ylabel='count'>"
      ]
     },
     "execution_count": 6,
     "metadata": {},
     "output_type": "execute_result"
    },
    {
     "data": {
      "image/png": "[encoded data removed]",
      "text/plain": [
       "<Figure size 432x288 with 1 Axes>"
      ]
     },
     "metadata": {
      "needs_background": "light"
     },
     "output_type": "display_data"
    }
   ],
   "source": [
    "# Number of occurences for each size (target variable)\n",
    "sns.countplot(x=df_raw[\"size\"])"
   ]
  },
  {
   "cell_type": "markdown",
   "id": "239c3b80",
   "metadata": {
    "papermill": {
     "duration": 0.03669,
     "end_time": "2021-07-19T05:50:56.112048",
     "exception": false,
     "start_time": "2021-07-19T05:50:56.075358",
     "status": "completed"
    },
    "tags": []
   },
   "source": [
    "Size `M` is the most common"
   ]
  },
  {
   "cell_type": "code",
   "execution_count": 7,
   "id": "e8ca3d4c",
   "metadata": {
    "execution": {
     "iopub.execute_input": "2021-07-19T05:50:56.197211Z",
     "iopub.status.busy": "2021-07-19T05:50:56.191750Z",
     "iopub.status.idle": "2021-07-19T05:50:57.479810Z",
     "shell.execute_reply": "2021-07-19T05:50:57.480285Z",
     "shell.execute_reply.started": "2021-07-19T05:50:03.083435Z"
    },
    "papermill": {
     "duration": 1.329916,
     "end_time": "2021-07-19T05:50:57.480458",
     "exception": false,
     "start_time": "2021-07-19T05:50:56.150542",
     "status": "completed"
    },
    "tags": []
   },
   "outputs": [
    {
     "data": {
      "text/plain": [
       "<seaborn.axisgrid.FacetGrid at 0x7fba4326d450>"
      ]
     },
     "execution_count": 7,
     "metadata": {},
     "output_type": "execute_result"
    },
    {
     "data": {
      "image/png": "[encoded data removed]",
      "text/plain": [
       "<Figure size 360x360 with 1 Axes>"
      ]
     },
     "metadata": {
      "needs_background": "light"
     },
     "output_type": "display_data"
    }
   ],
   "source": [
    "# Age distribution\n",
    "sns.displot(df_raw[\"age\"])"
   ]
  },
  {
   "cell_type": "markdown",
   "id": "9016020d",
   "metadata": {
    "papermill": {
     "duration": 0.038084,
     "end_time": "2021-07-19T05:50:57.556728",
     "exception": false,
     "start_time": "2021-07-19T05:50:57.518644",
     "status": "completed"
    },
    "tags": []
   },
   "source": [
    "Large fraction of population seems to be around the ages of `25 to 35 years old`"
   ]
  },
  {
   "cell_type": "code",
   "execution_count": 8,
   "id": "75020616",
   "metadata": {
    "execution": {
     "iopub.execute_input": "2021-07-19T05:50:57.643066Z",
     "iopub.status.busy": "2021-07-19T05:50:57.637766Z",
     "iopub.status.idle": "2021-07-19T05:50:58.515628Z",
     "shell.execute_reply": "2021-07-19T05:50:58.515162Z",
     "shell.execute_reply.started": "2021-07-19T05:50:04.337664Z"
    },
    "papermill": {
     "duration": 0.920592,
     "end_time": "2021-07-19T05:50:58.515771",
     "exception": false,
     "start_time": "2021-07-19T05:50:57.595179",
     "status": "completed"
    },
    "tags": []
   },
   "outputs": [
    {
     "data": {
      "text/plain": [
       "<seaborn.axisgrid.FacetGrid at 0x7fba4320a310>"
      ]
     },
     "execution_count": 8,
     "metadata": {},
     "output_type": "execute_result"
    },
    {
     "data": {
      "image/png": "[encoded data removed]",
      "text/plain": [
       "<Figure size 360x360 with 1 Axes>"
      ]
     },
     "metadata": {
      "needs_background": "light"
     },
     "output_type": "display_data"
    }
   ],
   "source": [
    "# Weight distribution\n",
    "sns.displot(df_raw[\"weight\"])"
   ]
  },
  {
   "cell_type": "code",
   "execution_count": 9,
   "id": "09c74dbe",
   "metadata": {
    "execution": {
     "iopub.execute_input": "2021-07-19T05:50:58.614425Z",
     "iopub.status.busy": "2021-07-19T05:50:58.609378Z",
     "iopub.status.idle": "2021-07-19T05:50:59.297369Z",
     "shell.execute_reply": "2021-07-19T05:50:59.296584Z",
     "shell.execute_reply.started": "2021-07-19T05:50:05.265575Z"
    },
    "papermill": {
     "duration": 0.742271,
     "end_time": "2021-07-19T05:50:59.297574",
     "exception": false,
     "start_time": "2021-07-19T05:50:58.555303",
     "status": "completed"
    },
    "tags": []
   },
   "outputs": [
    {
     "data": {
      "text/plain": [
       "<seaborn.axisgrid.FacetGrid at 0x7fba4326d790>"
      ]
     },
     "execution_count": 9,
     "metadata": {},
     "output_type": "execute_result"
    },
    {
     "data": {
      "image/png": "[encoded data removed]",
      "text/plain": [
       "<Figure size 360x360 with 1 Axes>"
      ]
     },
     "metadata": {
      "needs_background": "light"
     },
     "output_type": "display_data"
    }
   ],
   "source": [
    "# height distribution\n",
    "sns.displot(df_raw[\"height\"])"
   ]
  },
  {
   "cell_type": "markdown",
   "id": "17598802",
   "metadata": {
    "papermill": {
     "duration": 0.040469,
     "end_time": "2021-07-19T05:50:59.384580",
     "exception": false,
     "start_time": "2021-07-19T05:50:59.344111",
     "status": "completed"
    },
    "tags": []
   },
   "source": [
    "Population weight and height seem to show reasonable normal distributions"
   ]
  },
  {
   "cell_type": "markdown",
   "id": "7e8c8e3c",
   "metadata": {
    "papermill": {
     "duration": 0.040364,
     "end_time": "2021-07-19T05:50:59.465527",
     "exception": false,
     "start_time": "2021-07-19T05:50:59.425163",
     "status": "completed"
    },
    "tags": []
   },
   "source": [
    "### Removing outliers (z-score)"
   ]
  },
  {
   "cell_type": "code",
   "execution_count": 10,
   "id": "7cc6db93",
   "metadata": {
    "execution": {
     "iopub.execute_input": "2021-07-19T05:50:59.564394Z",
     "iopub.status.busy": "2021-07-19T05:50:59.563456Z",
     "iopub.status.idle": "2021-07-19T05:50:59.810070Z",
     "shell.execute_reply": "2021-07-19T05:50:59.809409Z",
     "shell.execute_reply.started": "2021-07-19T05:50:06.228500Z"
    },
    "papermill": {
     "duration": 0.304059,
     "end_time": "2021-07-19T05:50:59.810207",
     "exception": false,
     "start_time": "2021-07-19T05:50:59.506148",
     "status": "completed"
    },
    "tags": []
   },
   "outputs": [
    {
     "data": {
      "text/html": [
       "<div>\n",
       "<style scoped>\n",
       "    .dataframe tbody tr th:only-of-type {\n",
       "        vertical-align: middle;\n",
       "    }\n",
       "\n",
       "    .dataframe tbody tr th {\n",
       "        vertical-align: top;\n",
       "    }\n",
       "\n",
       "    .dataframe thead th {\n",
       "        text-align: right;\n",
       "    }\n",
       "</style>\n",
       "<table border=\"1\" class=\"dataframe\">\n",
       "  <thead>\n",
       "    <tr style=\"text-align: right;\">\n",
       "      <th></th>\n",
       "      <th>age</th>\n",
       "      <th>height</th>\n",
       "      <th>weight</th>\n",
       "      <th>size</th>\n",
       "    </tr>\n",
       "  </thead>\n",
       "  <tbody>\n",
       "    <tr>\n",
       "      <th>0</th>\n",
       "      <td>-0.833326</td>\n",
       "      <td>0.767729</td>\n",
       "      <td>-0.660757</td>\n",
       "      <td>XL</td>\n",
       "    </tr>\n",
       "    <tr>\n",
       "      <th>24</th>\n",
       "      <td>-0.713290</td>\n",
       "      <td>1.539527</td>\n",
       "      <td>1.556338</td>\n",
       "      <td>XL</td>\n",
       "    </tr>\n",
       "    <tr>\n",
       "      <th>25</th>\n",
       "      <td>-0.353183</td>\n",
       "      <td>-1.161765</td>\n",
       "      <td>-0.291241</td>\n",
       "      <td>XL</td>\n",
       "    </tr>\n",
       "    <tr>\n",
       "      <th>28</th>\n",
       "      <td>-0.473219</td>\n",
       "      <td>-1.933562</td>\n",
       "      <td>-1.399788</td>\n",
       "      <td>XL</td>\n",
       "    </tr>\n",
       "    <tr>\n",
       "      <th>34</th>\n",
       "      <td>0.126960</td>\n",
       "      <td>-0.775866</td>\n",
       "      <td>0.447791</td>\n",
       "      <td>XL</td>\n",
       "    </tr>\n",
       "  </tbody>\n",
       "</table>\n",
       "</div>"
      ],
      "text/plain": [
       "         age    height    weight size\n",
       "0  -0.833326  0.767729 -0.660757   XL\n",
       "24 -0.713290  1.539527  1.556338   XL\n",
       "25 -0.353183 -1.161765 -0.291241   XL\n",
       "28 -0.473219 -1.933562 -1.399788   XL\n",
       "34  0.126960 -0.775866  0.447791   XL"
      ]
     },
     "execution_count": 10,
     "metadata": {},
     "output_type": "execute_result"
    }
   ],
   "source": [
    "# Removing Outliers\n",
    "dfs = []\n",
    "sizes = []\n",
    "for size_type in df_raw['size'].unique():\n",
    "    sizes.append(size_type)\n",
    "    ndf = df_raw[['age','height','weight']][df_raw['size'] == size_type]\n",
    "    zscore = ((ndf - ndf.mean())/ndf.std())\n",
    "    dfs.append(zscore)\n",
    "    \n",
    "for i in range(len(dfs)):\n",
    "    dfs[i]['age'] = dfs[i]['age'][(dfs[i]['age']>-3) & (dfs[i]['age']<3)]\n",
    "    dfs[i]['height'] = dfs[i]['height'][(dfs[i]['height']>-3) & (dfs[i]['height']<3)]\n",
    "    dfs[i]['weight'] = dfs[i]['weight'][(dfs[i]['weight']>-3) & (dfs[i]['weight']<3)]\n",
    "\n",
    "for i in range(len(sizes)):\n",
    "    dfs[i]['size'] = sizes[i]\n",
    "df_raw = pd.concat(dfs)\n",
    "df_raw.head()"
   ]
  },
  {
   "cell_type": "markdown",
   "id": "de8d0b47",
   "metadata": {
    "papermill": {
     "duration": 0.040524,
     "end_time": "2021-07-19T05:50:59.891597",
     "exception": false,
     "start_time": "2021-07-19T05:50:59.851073",
     "status": "completed"
    },
    "tags": []
   },
   "source": [
    "### Filling missing data"
   ]
  },
  {
   "cell_type": "code",
   "execution_count": 11,
   "id": "beb43ec8",
   "metadata": {
    "execution": {
     "iopub.execute_input": "2021-07-19T05:50:59.977754Z",
     "iopub.status.busy": "2021-07-19T05:50:59.977144Z",
     "iopub.status.idle": "2021-07-19T05:50:59.997526Z",
     "shell.execute_reply": "2021-07-19T05:50:59.997991Z",
     "shell.execute_reply.started": "2021-07-19T05:50:06.506195Z"
    },
    "papermill": {
     "duration": 0.065872,
     "end_time": "2021-07-19T05:50:59.998161",
     "exception": false,
     "start_time": "2021-07-19T05:50:59.932289",
     "status": "completed"
    },
    "tags": []
   },
   "outputs": [
    {
     "data": {
      "text/plain": [
       "age       1678\n",
       "height     547\n",
       "weight    1069\n",
       "size         0\n",
       "dtype: int64"
      ]
     },
     "execution_count": 11,
     "metadata": {},
     "output_type": "execute_result"
    }
   ],
   "source": [
    "# Check for missing values\n",
    "df_raw.isna().sum()"
   ]
  },
  {
   "cell_type": "code",
   "execution_count": 12,
   "id": "fe4299a1",
   "metadata": {
    "execution": {
     "iopub.execute_input": "2021-07-19T05:51:00.086795Z",
     "iopub.status.busy": "2021-07-19T05:51:00.085622Z",
     "iopub.status.idle": "2021-07-19T05:51:00.097525Z",
     "shell.execute_reply": "2021-07-19T05:51:00.097012Z",
     "shell.execute_reply.started": "2021-07-19T05:50:06.531785Z"
    },
    "papermill": {
     "duration": 0.058406,
     "end_time": "2021-07-19T05:51:00.097664",
     "exception": false,
     "start_time": "2021-07-19T05:51:00.039258",
     "status": "completed"
    },
    "tags": []
   },
   "outputs": [],
   "source": [
    "# Filling missing data\n",
    "df_raw[\"age\"] = df_raw[\"age\"].fillna(df_raw['age'].median())\n",
    "df_raw[\"height\"] = df_raw[\"height\"].fillna(df_raw['height'].median())\n",
    "df_raw[\"weight\"] = df_raw[\"weight\"].fillna(df_raw['weight'].median())"
   ]
  },
  {
   "cell_type": "code",
   "execution_count": 13,
   "id": "c58df81a",
   "metadata": {
    "execution": {
     "iopub.execute_input": "2021-07-19T05:51:00.198846Z",
     "iopub.status.busy": "2021-07-19T05:51:00.198070Z",
     "iopub.status.idle": "2021-07-19T05:51:00.203064Z",
     "shell.execute_reply": "2021-07-19T05:51:00.202551Z",
     "shell.execute_reply.started": "2021-07-19T05:50:06.554915Z"
    },
    "papermill": {
     "duration": 0.064238,
     "end_time": "2021-07-19T05:51:00.203207",
     "exception": false,
     "start_time": "2021-07-19T05:51:00.138969",
     "status": "completed"
    },
    "tags": []
   },
   "outputs": [],
   "source": [
    "# Mapping clothes size from strings to numeric\n",
    "df_raw['size'] = df_raw['size'].map({\"XXS\": 1,\n",
    "                                     \"S\": 2,\n",
    "                                     \"M\" : 3,\n",
    "                                     \"L\" : 4,\n",
    "                                     \"XL\" : 5,\n",
    "                                     \"XXL\" : 6,\n",
    "                                     \"XXXL\" : 7})"
   ]
  },
  {
   "cell_type": "code",
   "execution_count": 14,
   "id": "41c09bf5",
   "metadata": {
    "execution": {
     "iopub.execute_input": "2021-07-19T05:51:00.289503Z",
     "iopub.status.busy": "2021-07-19T05:51:00.288841Z",
     "iopub.status.idle": "2021-07-19T05:51:00.296006Z",
     "shell.execute_reply": "2021-07-19T05:51:00.296490Z",
     "shell.execute_reply.started": "2021-07-19T05:50:06.578930Z"
    },
    "papermill": {
     "duration": 0.052678,
     "end_time": "2021-07-19T05:51:00.296671",
     "exception": false,
     "start_time": "2021-07-19T05:51:00.243993",
     "status": "completed"
    },
    "tags": []
   },
   "outputs": [
    {
     "data": {
      "text/plain": [
       "age       0\n",
       "height    0\n",
       "weight    0\n",
       "size      0\n",
       "dtype: int64"
      ]
     },
     "execution_count": 14,
     "metadata": {},
     "output_type": "execute_result"
    }
   ],
   "source": [
    "# Check for missing values\n",
    "df_raw.isna().sum()"
   ]
  },
  {
   "cell_type": "code",
   "execution_count": 15,
   "id": "6a88031c",
   "metadata": {
    "execution": {
     "iopub.execute_input": "2021-07-19T05:51:00.396094Z",
     "iopub.status.busy": "2021-07-19T05:51:00.395140Z",
     "iopub.status.idle": "2021-07-19T05:51:00.399058Z",
     "shell.execute_reply": "2021-07-19T05:51:00.398447Z",
     "shell.execute_reply.started": "2021-07-19T05:50:06.594214Z"
    },
    "papermill": {
     "duration": 0.059966,
     "end_time": "2021-07-19T05:51:00.399255",
     "exception": false,
     "start_time": "2021-07-19T05:51:00.339289",
     "status": "completed"
    },
    "tags": []
   },
   "outputs": [
    {
     "data": {
      "text/html": [
       "<div>\n",
       "<style scoped>\n",
       "    .dataframe tbody tr th:only-of-type {\n",
       "        vertical-align: middle;\n",
       "    }\n",
       "\n",
       "    .dataframe tbody tr th {\n",
       "        vertical-align: top;\n",
       "    }\n",
       "\n",
       "    .dataframe thead th {\n",
       "        text-align: right;\n",
       "    }\n",
       "</style>\n",
       "<table border=\"1\" class=\"dataframe\">\n",
       "  <thead>\n",
       "    <tr style=\"text-align: right;\">\n",
       "      <th></th>\n",
       "      <th>age</th>\n",
       "      <th>height</th>\n",
       "      <th>weight</th>\n",
       "      <th>size</th>\n",
       "    </tr>\n",
       "  </thead>\n",
       "  <tbody>\n",
       "    <tr>\n",
       "      <th>0</th>\n",
       "      <td>-0.833326</td>\n",
       "      <td>0.767729</td>\n",
       "      <td>-0.660757</td>\n",
       "      <td>5</td>\n",
       "    </tr>\n",
       "    <tr>\n",
       "      <th>24</th>\n",
       "      <td>-0.713290</td>\n",
       "      <td>1.539527</td>\n",
       "      <td>1.556338</td>\n",
       "      <td>5</td>\n",
       "    </tr>\n",
       "    <tr>\n",
       "      <th>25</th>\n",
       "      <td>-0.353183</td>\n",
       "      <td>-1.161765</td>\n",
       "      <td>-0.291241</td>\n",
       "      <td>5</td>\n",
       "    </tr>\n",
       "    <tr>\n",
       "      <th>28</th>\n",
       "      <td>-0.473219</td>\n",
       "      <td>-1.933562</td>\n",
       "      <td>-1.399788</td>\n",
       "      <td>5</td>\n",
       "    </tr>\n",
       "    <tr>\n",
       "      <th>34</th>\n",
       "      <td>0.126960</td>\n",
       "      <td>-0.775866</td>\n",
       "      <td>0.447791</td>\n",
       "      <td>5</td>\n",
       "    </tr>\n",
       "    <tr>\n",
       "      <th>...</th>\n",
       "      <td>...</td>\n",
       "      <td>...</td>\n",
       "      <td>...</td>\n",
       "      <td>...</td>\n",
       "    </tr>\n",
       "    <tr>\n",
       "      <th>112707</th>\n",
       "      <td>-1.236027</td>\n",
       "      <td>-1.489537</td>\n",
       "      <td>0.318135</td>\n",
       "      <td>6</td>\n",
       "    </tr>\n",
       "    <tr>\n",
       "      <th>114732</th>\n",
       "      <td>-0.633300</td>\n",
       "      <td>-0.052082</td>\n",
       "      <td>1.494100</td>\n",
       "      <td>6</td>\n",
       "    </tr>\n",
       "    <tr>\n",
       "      <th>114803</th>\n",
       "      <td>-0.432391</td>\n",
       "      <td>-0.052082</td>\n",
       "      <td>0.514129</td>\n",
       "      <td>6</td>\n",
       "    </tr>\n",
       "    <tr>\n",
       "      <th>114994</th>\n",
       "      <td>0.973972</td>\n",
       "      <td>-0.052082</td>\n",
       "      <td>-0.465841</td>\n",
       "      <td>6</td>\n",
       "    </tr>\n",
       "    <tr>\n",
       "      <th>117637</th>\n",
       "      <td>-0.733755</td>\n",
       "      <td>1.026010</td>\n",
       "      <td>2.082082</td>\n",
       "      <td>6</td>\n",
       "    </tr>\n",
       "  </tbody>\n",
       "</table>\n",
       "<p>119734 rows × 4 columns</p>\n",
       "</div>"
      ],
      "text/plain": [
       "             age    height    weight  size\n",
       "0      -0.833326  0.767729 -0.660757     5\n",
       "24     -0.713290  1.539527  1.556338     5\n",
       "25     -0.353183 -1.161765 -0.291241     5\n",
       "28     -0.473219 -1.933562 -1.399788     5\n",
       "34      0.126960 -0.775866  0.447791     5\n",
       "...          ...       ...       ...   ...\n",
       "112707 -1.236027 -1.489537  0.318135     6\n",
       "114732 -0.633300 -0.052082  1.494100     6\n",
       "114803 -0.432391 -0.052082  0.514129     6\n",
       "114994  0.973972 -0.052082 -0.465841     6\n",
       "117637 -0.733755  1.026010  2.082082     6\n",
       "\n",
       "[119734 rows x 4 columns]"
      ]
     },
     "execution_count": 15,
     "metadata": {},
     "output_type": "execute_result"
    }
   ],
   "source": [
    "df_raw"
   ]
  },
  {
   "cell_type": "markdown",
   "id": "70aa72ef",
   "metadata": {
    "papermill": {
     "duration": 0.041166,
     "end_time": "2021-07-19T05:51:00.482456",
     "exception": false,
     "start_time": "2021-07-19T05:51:00.441290",
     "status": "completed"
    },
    "tags": []
   },
   "source": [
    "### Feature Engineering\n",
    "We will create two new features to help model training effectiveness:\n",
    "* `bmi` (body-mass index) - medically accepted measure of obesity\n",
    "* `weight-squared` - value increases exponentially with increase in `weight`"
   ]
  },
  {
   "cell_type": "code",
   "execution_count": 16,
   "id": "a1be1a31",
   "metadata": {
    "execution": {
     "iopub.execute_input": "2021-07-19T05:51:00.572428Z",
     "iopub.status.busy": "2021-07-19T05:51:00.571458Z",
     "iopub.status.idle": "2021-07-19T05:51:00.578234Z",
     "shell.execute_reply": "2021-07-19T05:51:00.577664Z",
     "shell.execute_reply.started": "2021-07-19T05:50:06.615041Z"
    },
    "papermill": {
     "duration": 0.05413,
     "end_time": "2021-07-19T05:51:00.578393",
     "exception": false,
     "start_time": "2021-07-19T05:51:00.524263",
     "status": "completed"
    },
    "tags": []
   },
   "outputs": [],
   "source": [
    "df_raw[\"bmi\"] = df_raw[\"height\"]/df_raw[\"weight\"]\n",
    "df_raw[\"weight-squared\"] = df_raw[\"weight\"] * df_raw[\"weight\"]"
   ]
  },
  {
   "cell_type": "code",
   "execution_count": 17,
   "id": "e23fc71d",
   "metadata": {
    "execution": {
     "iopub.execute_input": "2021-07-19T05:51:00.680516Z",
     "iopub.status.busy": "2021-07-19T05:51:00.679623Z",
     "iopub.status.idle": "2021-07-19T05:51:00.684248Z",
     "shell.execute_reply": "2021-07-19T05:51:00.683407Z",
     "shell.execute_reply.started": "2021-07-19T05:50:06.632466Z"
    },
    "papermill": {
     "duration": 0.064061,
     "end_time": "2021-07-19T05:51:00.684389",
     "exception": false,
     "start_time": "2021-07-19T05:51:00.620328",
     "status": "completed"
    },
    "tags": []
   },
   "outputs": [
    {
     "data": {
      "text/html": [
       "<div>\n",
       "<style scoped>\n",
       "    .dataframe tbody tr th:only-of-type {\n",
       "        vertical-align: middle;\n",
       "    }\n",
       "\n",
       "    .dataframe tbody tr th {\n",
       "        vertical-align: top;\n",
       "    }\n",
       "\n",
       "    .dataframe thead th {\n",
       "        text-align: right;\n",
       "    }\n",
       "</style>\n",
       "<table border=\"1\" class=\"dataframe\">\n",
       "  <thead>\n",
       "    <tr style=\"text-align: right;\">\n",
       "      <th></th>\n",
       "      <th>age</th>\n",
       "      <th>height</th>\n",
       "      <th>weight</th>\n",
       "      <th>size</th>\n",
       "      <th>bmi</th>\n",
       "      <th>weight-squared</th>\n",
       "    </tr>\n",
       "  </thead>\n",
       "  <tbody>\n",
       "    <tr>\n",
       "      <th>0</th>\n",
       "      <td>-0.833326</td>\n",
       "      <td>0.767729</td>\n",
       "      <td>-0.660757</td>\n",
       "      <td>5</td>\n",
       "      <td>-1.161894</td>\n",
       "      <td>0.436599</td>\n",
       "    </tr>\n",
       "    <tr>\n",
       "      <th>24</th>\n",
       "      <td>-0.713290</td>\n",
       "      <td>1.539527</td>\n",
       "      <td>1.556338</td>\n",
       "      <td>5</td>\n",
       "      <td>0.989198</td>\n",
       "      <td>2.422189</td>\n",
       "    </tr>\n",
       "    <tr>\n",
       "      <th>25</th>\n",
       "      <td>-0.353183</td>\n",
       "      <td>-1.161765</td>\n",
       "      <td>-0.291241</td>\n",
       "      <td>5</td>\n",
       "      <td>3.989017</td>\n",
       "      <td>0.084821</td>\n",
       "    </tr>\n",
       "    <tr>\n",
       "      <th>28</th>\n",
       "      <td>-0.473219</td>\n",
       "      <td>-1.933562</td>\n",
       "      <td>-1.399788</td>\n",
       "      <td>5</td>\n",
       "      <td>1.381325</td>\n",
       "      <td>1.959407</td>\n",
       "    </tr>\n",
       "    <tr>\n",
       "      <th>34</th>\n",
       "      <td>0.126960</td>\n",
       "      <td>-0.775866</td>\n",
       "      <td>0.447791</td>\n",
       "      <td>5</td>\n",
       "      <td>-1.732653</td>\n",
       "      <td>0.200517</td>\n",
       "    </tr>\n",
       "    <tr>\n",
       "      <th>...</th>\n",
       "      <td>...</td>\n",
       "      <td>...</td>\n",
       "      <td>...</td>\n",
       "      <td>...</td>\n",
       "      <td>...</td>\n",
       "      <td>...</td>\n",
       "    </tr>\n",
       "    <tr>\n",
       "      <th>112707</th>\n",
       "      <td>-1.236027</td>\n",
       "      <td>-1.489537</td>\n",
       "      <td>0.318135</td>\n",
       "      <td>6</td>\n",
       "      <td>-4.682086</td>\n",
       "      <td>0.101210</td>\n",
       "    </tr>\n",
       "    <tr>\n",
       "      <th>114732</th>\n",
       "      <td>-0.633300</td>\n",
       "      <td>-0.052082</td>\n",
       "      <td>1.494100</td>\n",
       "      <td>6</td>\n",
       "      <td>-0.034858</td>\n",
       "      <td>2.232334</td>\n",
       "    </tr>\n",
       "    <tr>\n",
       "      <th>114803</th>\n",
       "      <td>-0.432391</td>\n",
       "      <td>-0.052082</td>\n",
       "      <td>0.514129</td>\n",
       "      <td>6</td>\n",
       "      <td>-0.101301</td>\n",
       "      <td>0.264329</td>\n",
       "    </tr>\n",
       "    <tr>\n",
       "      <th>114994</th>\n",
       "      <td>0.973972</td>\n",
       "      <td>-0.052082</td>\n",
       "      <td>-0.465841</td>\n",
       "      <td>6</td>\n",
       "      <td>0.111801</td>\n",
       "      <td>0.217008</td>\n",
       "    </tr>\n",
       "    <tr>\n",
       "      <th>117637</th>\n",
       "      <td>-0.733755</td>\n",
       "      <td>1.026010</td>\n",
       "      <td>2.082082</td>\n",
       "      <td>6</td>\n",
       "      <td>0.492781</td>\n",
       "      <td>4.335065</td>\n",
       "    </tr>\n",
       "  </tbody>\n",
       "</table>\n",
       "<p>119734 rows × 6 columns</p>\n",
       "</div>"
      ],
      "text/plain": [
       "             age    height    weight  size       bmi  weight-squared\n",
       "0      -0.833326  0.767729 -0.660757     5 -1.161894        0.436599\n",
       "24     -0.713290  1.539527  1.556338     5  0.989198        2.422189\n",
       "25     -0.353183 -1.161765 -0.291241     5  3.989017        0.084821\n",
       "28     -0.473219 -1.933562 -1.399788     5  1.381325        1.959407\n",
       "34      0.126960 -0.775866  0.447791     5 -1.732653        0.200517\n",
       "...          ...       ...       ...   ...       ...             ...\n",
       "112707 -1.236027 -1.489537  0.318135     6 -4.682086        0.101210\n",
       "114732 -0.633300 -0.052082  1.494100     6 -0.034858        2.232334\n",
       "114803 -0.432391 -0.052082  0.514129     6 -0.101301        0.264329\n",
       "114994  0.973972 -0.052082 -0.465841     6  0.111801        0.217008\n",
       "117637 -0.733755  1.026010  2.082082     6  0.492781        4.335065\n",
       "\n",
       "[119734 rows x 6 columns]"
      ]
     },
     "execution_count": 17,
     "metadata": {},
     "output_type": "execute_result"
    }
   ],
   "source": [
    "df_raw"
   ]
  },
  {
   "cell_type": "markdown",
   "id": "d09d9fd1",
   "metadata": {
    "papermill": {
     "duration": 0.041904,
     "end_time": "2021-07-19T05:51:00.769123",
     "exception": false,
     "start_time": "2021-07-19T05:51:00.727219",
     "status": "completed"
    },
    "tags": []
   },
   "source": [
    "### Correlation matrix"
   ]
  },
  {
   "cell_type": "code",
   "execution_count": 18,
   "id": "cf551440",
   "metadata": {
    "execution": {
     "iopub.execute_input": "2021-07-19T05:51:00.859001Z",
     "iopub.status.busy": "2021-07-19T05:51:00.858280Z",
     "iopub.status.idle": "2021-07-19T05:51:01.273105Z",
     "shell.execute_reply": "2021-07-19T05:51:01.272571Z",
     "shell.execute_reply.started": "2021-07-19T05:50:06.662010Z"
    },
    "papermill": {
     "duration": 0.461908,
     "end_time": "2021-07-19T05:51:01.273255",
     "exception": false,
     "start_time": "2021-07-19T05:51:00.811347",
     "status": "completed"
    },
    "tags": []
   },
   "outputs": [
    {
     "data": {
      "image/png": "[encoded data removed]",
      "text/plain": [
       "<Figure size 432x288 with 2 Axes>"
      ]
     },
     "metadata": {
      "needs_background": "light"
     },
     "output_type": "display_data"
    }
   ],
   "source": [
    "corr = sns.heatmap(df_raw.corr(), annot=True)"
   ]
  },
  {
   "cell_type": "markdown",
   "id": "428753ee",
   "metadata": {
    "papermill": {
     "duration": 0.043952,
     "end_time": "2021-07-19T05:51:01.361656",
     "exception": false,
     "start_time": "2021-07-19T05:51:01.317704",
     "status": "completed"
    },
    "tags": []
   },
   "source": [
    "Clothing `size` seems much more highly dependent on `weight` than `age` or `height`, and seems to be have a strong inverse correlation with `bmi`"
   ]
  },
  {
   "cell_type": "markdown",
   "id": "42541339",
   "metadata": {
    "papermill": {
     "duration": 0.043446,
     "end_time": "2021-07-19T05:51:01.448720",
     "exception": false,
     "start_time": "2021-07-19T05:51:01.405274",
     "status": "completed"
    },
    "tags": []
   },
   "source": [
    "### Splitting data into training and validation datasets\n",
    "The target variable is clothing `size`, and we will let the validation set be 10% of the total population."
   ]
  },
  {
   "cell_type": "code",
   "execution_count": 19,
   "id": "c07fc8f4",
   "metadata": {
    "execution": {
     "iopub.execute_input": "2021-07-19T05:51:01.541091Z",
     "iopub.status.busy": "2021-07-19T05:51:01.540436Z",
     "iopub.status.idle": "2021-07-19T05:51:01.550570Z",
     "shell.execute_reply": "2021-07-19T05:51:01.549999Z",
     "shell.execute_reply.started": "2021-07-19T05:50:07.154157Z"
    },
    "papermill": {
     "duration": 0.058452,
     "end_time": "2021-07-19T05:51:01.550713",
     "exception": false,
     "start_time": "2021-07-19T05:51:01.492261",
     "status": "completed"
    },
    "tags": []
   },
   "outputs": [],
   "source": [
    "# Features\n",
    "X = df_raw.drop(\"size\", axis=1)\n",
    "\n",
    "# Target\n",
    "y = df_raw[\"size\"]"
   ]
  },
  {
   "cell_type": "code",
   "execution_count": 20,
   "id": "99476027",
   "metadata": {
    "execution": {
     "iopub.execute_input": "2021-07-19T05:51:01.650123Z",
     "iopub.status.busy": "2021-07-19T05:51:01.649495Z",
     "iopub.status.idle": "2021-07-19T05:51:01.655971Z",
     "shell.execute_reply": "2021-07-19T05:51:01.655473Z",
     "shell.execute_reply.started": "2021-07-19T05:50:07.169358Z"
    },
    "papermill": {
     "duration": 0.061672,
     "end_time": "2021-07-19T05:51:01.656111",
     "exception": false,
     "start_time": "2021-07-19T05:51:01.594439",
     "status": "completed"
    },
    "tags": []
   },
   "outputs": [
    {
     "data": {
      "text/html": [
       "<div>\n",
       "<style scoped>\n",
       "    .dataframe tbody tr th:only-of-type {\n",
       "        vertical-align: middle;\n",
       "    }\n",
       "\n",
       "    .dataframe tbody tr th {\n",
       "        vertical-align: top;\n",
       "    }\n",
       "\n",
       "    .dataframe thead th {\n",
       "        text-align: right;\n",
       "    }\n",
       "</style>\n",
       "<table border=\"1\" class=\"dataframe\">\n",
       "  <thead>\n",
       "    <tr style=\"text-align: right;\">\n",
       "      <th></th>\n",
       "      <th>age</th>\n",
       "      <th>height</th>\n",
       "      <th>weight</th>\n",
       "      <th>bmi</th>\n",
       "      <th>weight-squared</th>\n",
       "    </tr>\n",
       "  </thead>\n",
       "  <tbody>\n",
       "    <tr>\n",
       "      <th>0</th>\n",
       "      <td>-0.833326</td>\n",
       "      <td>0.767729</td>\n",
       "      <td>-0.660757</td>\n",
       "      <td>-1.161894</td>\n",
       "      <td>0.436599</td>\n",
       "    </tr>\n",
       "    <tr>\n",
       "      <th>24</th>\n",
       "      <td>-0.713290</td>\n",
       "      <td>1.539527</td>\n",
       "      <td>1.556338</td>\n",
       "      <td>0.989198</td>\n",
       "      <td>2.422189</td>\n",
       "    </tr>\n",
       "    <tr>\n",
       "      <th>25</th>\n",
       "      <td>-0.353183</td>\n",
       "      <td>-1.161765</td>\n",
       "      <td>-0.291241</td>\n",
       "      <td>3.989017</td>\n",
       "      <td>0.084821</td>\n",
       "    </tr>\n",
       "    <tr>\n",
       "      <th>28</th>\n",
       "      <td>-0.473219</td>\n",
       "      <td>-1.933562</td>\n",
       "      <td>-1.399788</td>\n",
       "      <td>1.381325</td>\n",
       "      <td>1.959407</td>\n",
       "    </tr>\n",
       "    <tr>\n",
       "      <th>34</th>\n",
       "      <td>0.126960</td>\n",
       "      <td>-0.775866</td>\n",
       "      <td>0.447791</td>\n",
       "      <td>-1.732653</td>\n",
       "      <td>0.200517</td>\n",
       "    </tr>\n",
       "  </tbody>\n",
       "</table>\n",
       "</div>"
      ],
      "text/plain": [
       "         age    height    weight       bmi  weight-squared\n",
       "0  -0.833326  0.767729 -0.660757 -1.161894        0.436599\n",
       "24 -0.713290  1.539527  1.556338  0.989198        2.422189\n",
       "25 -0.353183 -1.161765 -0.291241  3.989017        0.084821\n",
       "28 -0.473219 -1.933562 -1.399788  1.381325        1.959407\n",
       "34  0.126960 -0.775866  0.447791 -1.732653        0.200517"
      ]
     },
     "execution_count": 20,
     "metadata": {},
     "output_type": "execute_result"
    }
   ],
   "source": [
    "X.head()"
   ]
  },
  {
   "cell_type": "code",
   "execution_count": 21,
   "id": "6bf0010a",
   "metadata": {
    "execution": {
     "iopub.execute_input": "2021-07-19T05:51:01.751384Z",
     "iopub.status.busy": "2021-07-19T05:51:01.750330Z",
     "iopub.status.idle": "2021-07-19T05:51:01.754419Z",
     "shell.execute_reply": "2021-07-19T05:51:01.753816Z",
     "shell.execute_reply.started": "2021-07-19T05:50:07.186922Z"
    },
    "papermill": {
     "duration": 0.054079,
     "end_time": "2021-07-19T05:51:01.754547",
     "exception": false,
     "start_time": "2021-07-19T05:51:01.700468",
     "status": "completed"
    },
    "tags": []
   },
   "outputs": [
    {
     "data": {
      "text/plain": [
       "0     5\n",
       "24    5\n",
       "25    5\n",
       "28    5\n",
       "34    5\n",
       "Name: size, dtype: int64"
      ]
     },
     "execution_count": 21,
     "metadata": {},
     "output_type": "execute_result"
    }
   ],
   "source": [
    "y.head()"
   ]
  },
  {
   "cell_type": "code",
   "execution_count": 22,
   "id": "193a65a8",
   "metadata": {
    "execution": {
     "iopub.execute_input": "2021-07-19T05:51:01.851864Z",
     "iopub.status.busy": "2021-07-19T05:51:01.851236Z",
     "iopub.status.idle": "2021-07-19T05:51:01.866334Z",
     "shell.execute_reply": "2021-07-19T05:51:01.865670Z",
     "shell.execute_reply.started": "2021-07-19T05:50:07.203371Z"
    },
    "papermill": {
     "duration": 0.067205,
     "end_time": "2021-07-19T05:51:01.866472",
     "exception": false,
     "start_time": "2021-07-19T05:51:01.799267",
     "status": "completed"
    },
    "tags": []
   },
   "outputs": [],
   "source": [
    "# Splitting data into training set and validation set\n",
    "\n",
    "X_train, X_test, y_train, y_test, = train_test_split(X,y, test_size=0.10)"
   ]
  },
  {
   "cell_type": "code",
   "execution_count": 23,
   "id": "13b91815",
   "metadata": {
    "execution": {
     "iopub.execute_input": "2021-07-19T05:51:01.961294Z",
     "iopub.status.busy": "2021-07-19T05:51:01.960622Z",
     "iopub.status.idle": "2021-07-19T05:51:01.963131Z",
     "shell.execute_reply": "2021-07-19T05:51:01.963604Z",
     "shell.execute_reply.started": "2021-07-19T05:50:07.231609Z"
    },
    "papermill": {
     "duration": 0.052736,
     "end_time": "2021-07-19T05:51:01.963765",
     "exception": false,
     "start_time": "2021-07-19T05:51:01.911029",
     "status": "completed"
    },
    "tags": []
   },
   "outputs": [
    {
     "data": {
      "text/plain": [
       "(107760, 11974)"
      ]
     },
     "execution_count": 23,
     "metadata": {},
     "output_type": "execute_result"
    }
   ],
   "source": [
    "len(X_train), len(X_test)"
   ]
  },
  {
   "cell_type": "markdown",
   "id": "7b32c85d",
   "metadata": {
    "papermill": {
     "duration": 0.04436,
     "end_time": "2021-07-19T05:51:02.052865",
     "exception": false,
     "start_time": "2021-07-19T05:51:02.008505",
     "status": "completed"
    },
    "tags": []
   },
   "source": [
    "### Training Model\n",
    "We will try:\n",
    "* Logistic Regression\n",
    "* K-Nearest Neighbors\n",
    "* Random Forest Classifier\n",
    "* Decision Tree Classifier"
   ]
  },
  {
   "cell_type": "code",
   "execution_count": 24,
   "id": "8781362f",
   "metadata": {
    "execution": {
     "iopub.execute_input": "2021-07-19T05:51:02.145713Z",
     "iopub.status.busy": "2021-07-19T05:51:02.145106Z",
     "iopub.status.idle": "2021-07-19T05:51:02.151541Z",
     "shell.execute_reply": "2021-07-19T05:51:02.152035Z",
     "shell.execute_reply.started": "2021-07-19T05:50:07.240481Z"
    },
    "papermill": {
     "duration": 0.054501,
     "end_time": "2021-07-19T05:51:02.152198",
     "exception": false,
     "start_time": "2021-07-19T05:51:02.097697",
     "status": "completed"
    },
    "tags": []
   },
   "outputs": [],
   "source": [
    "# Put models in a dictionary\n",
    "models = {\"Logistic Regression\": LogisticRegression(),\n",
    "         \"KNN\": KNeighborsClassifier(),\n",
    "         \"Random Forest\": RandomForestClassifier(),\n",
    "         \"Decision Tree\": DecisionTreeClassifier()}\n",
    "\n",
    "# Create a function to fit and score models\n",
    "def fit_and_score(models, X_train, X_test, y_train, y_test):\n",
    "   \n",
    "    \"\"\"\n",
    "   Fits and evaluates given machine learning models.\n",
    "   models: a dict of different Scikit_Learn machine learning models\n",
    "   X_train: training data (no labels)\n",
    "   X_test: testing data (no labels)\n",
    "   y_train: training labels\n",
    "   y_test: test labels\n",
    "   \"\"\" \n",
    "    # Set random seed\n",
    "    np.random.seed(18)\n",
    "    # Make a dictionary to keep model scores\n",
    "    model_scores = {}\n",
    "    # Loop through models\n",
    "    for name, model in models.items():\n",
    "        # Fit model to data\n",
    "        model.fit(X_train, y_train)\n",
    "        # Evaluate model and append its score to model_scores\n",
    "        model_scores[name] = model.score(X_test, y_test)\n",
    "\n",
    "    return model_scores"
   ]
  },
  {
   "cell_type": "code",
   "execution_count": 25,
   "id": "45f728b2",
   "metadata": {
    "execution": {
     "iopub.execute_input": "2021-07-19T05:51:02.244824Z",
     "iopub.status.busy": "2021-07-19T05:51:02.244210Z",
     "iopub.status.idle": "2021-07-19T05:51:02.247101Z",
     "shell.execute_reply": "2021-07-19T05:51:02.247569Z",
     "shell.execute_reply.started": "2021-07-19T05:50:07.253597Z"
    },
    "papermill": {
     "duration": 0.050654,
     "end_time": "2021-07-19T05:51:02.247714",
     "exception": false,
     "start_time": "2021-07-19T05:51:02.197060",
     "status": "completed"
    },
    "tags": []
   },
   "outputs": [],
   "source": [
    "# model_scores = fit_and_score(models,X_train,X_test,y_train,y_test)\n",
    "\n",
    "# model_scores"
   ]
  },
  {
   "cell_type": "code",
   "execution_count": 26,
   "id": "67743250",
   "metadata": {
    "execution": {
     "iopub.execute_input": "2021-07-19T05:51:02.340320Z",
     "iopub.status.busy": "2021-07-19T05:51:02.339659Z",
     "iopub.status.idle": "2021-07-19T05:51:02.342353Z",
     "shell.execute_reply": "2021-07-19T05:51:02.342803Z",
     "shell.execute_reply.started": "2021-07-19T05:50:07.271510Z"
    },
    "papermill": {
     "duration": 0.050473,
     "end_time": "2021-07-19T05:51:02.343045",
     "exception": false,
     "start_time": "2021-07-19T05:51:02.292572",
     "status": "completed"
    },
    "tags": []
   },
   "outputs": [],
   "source": [
    "# model_compare = pd.DataFrame(model_scores, index=[\"accuracy\"])\n",
    "# model_compare.T.plot.bar();"
   ]
  },
  {
   "cell_type": "markdown",
   "id": "5b33df64",
   "metadata": {
    "papermill": {
     "duration": 0.044795,
     "end_time": "2021-07-19T05:51:02.433371",
     "exception": false,
     "start_time": "2021-07-19T05:51:02.388576",
     "status": "completed"
    },
    "tags": []
   },
   "source": [
    "### Model evaluation\n",
    "We will continue with the DecisionTreeClassifier model, which scored highest in initial tests with `99.9749%` accuracy.\n"
   ]
  },
  {
   "cell_type": "code",
   "execution_count": 27,
   "id": "bd2d0d27",
   "metadata": {
    "execution": {
     "iopub.execute_input": "2021-07-19T05:51:02.528580Z",
     "iopub.status.busy": "2021-07-19T05:51:02.527927Z",
     "iopub.status.idle": "2021-07-19T05:51:02.841155Z",
     "shell.execute_reply": "2021-07-19T05:51:02.839716Z",
     "shell.execute_reply.started": "2021-07-19T05:50:07.285119Z"
    },
    "papermill": {
     "duration": 0.36199,
     "end_time": "2021-07-19T05:51:02.841305",
     "exception": false,
     "start_time": "2021-07-19T05:51:02.479315",
     "status": "completed"
    },
    "tags": []
   },
   "outputs": [],
   "source": [
    "model = DecisionTreeClassifier()\n",
    "model.fit(X_train, y_train)\n",
    "y_pred = model.predict(X_test)\n"
   ]
  },
  {
   "cell_type": "code",
   "execution_count": 28,
   "id": "9f350e52",
   "metadata": {
    "execution": {
     "iopub.execute_input": "2021-07-19T05:51:02.936864Z",
     "iopub.status.busy": "2021-07-19T05:51:02.936229Z",
     "iopub.status.idle": "2021-07-19T05:51:02.960165Z",
     "shell.execute_reply": "2021-07-19T05:51:02.959517Z",
     "shell.execute_reply.started": "2021-07-19T05:50:07.636927Z"
    },
    "papermill": {
     "duration": 0.074185,
     "end_time": "2021-07-19T05:51:02.960302",
     "exception": false,
     "start_time": "2021-07-19T05:51:02.886117",
     "status": "completed"
    },
    "tags": []
   },
   "outputs": [
    {
     "name": "stdout",
     "output_type": "stream",
     "text": [
      "[[1019    0    0    0    0    0    1]\n",
      " [   0 2164    0    0    0    0    0]\n",
      " [   0    0 2954    0    0    0    0]\n",
      " [   1    0    0 1739    0    0    0]\n",
      " [   0    0    0    0 1980    0    0]\n",
      " [   0    0    0    0    0    7    0]\n",
      " [   0    0    0    0    0    0 2109]]\n"
     ]
    }
   ],
   "source": [
    "# Confusion matrix\n",
    "print(confusion_matrix(y_test, y_pred))"
   ]
  },
  {
   "cell_type": "code",
   "execution_count": 29,
   "id": "15126a40",
   "metadata": {
    "execution": {
     "iopub.execute_input": "2021-07-19T05:51:03.056676Z",
     "iopub.status.busy": "2021-07-19T05:51:03.055705Z",
     "iopub.status.idle": "2021-07-19T05:51:03.086909Z",
     "shell.execute_reply": "2021-07-19T05:51:03.087393Z",
     "shell.execute_reply.started": "2021-07-19T05:50:07.666587Z"
    },
    "papermill": {
     "duration": 0.081878,
     "end_time": "2021-07-19T05:51:03.087560",
     "exception": false,
     "start_time": "2021-07-19T05:51:03.005682",
     "status": "completed"
    },
    "tags": []
   },
   "outputs": [
    {
     "name": "stdout",
     "output_type": "stream",
     "text": [
      "              precision    recall  f1-score   support\n",
      "\n",
      "           1       1.00      1.00      1.00      1020\n",
      "           2       1.00      1.00      1.00      2164\n",
      "           3       1.00      1.00      1.00      2954\n",
      "           4       1.00      1.00      1.00      1740\n",
      "           5       1.00      1.00      1.00      1980\n",
      "           6       1.00      1.00      1.00         7\n",
      "           7       1.00      1.00      1.00      2109\n",
      "\n",
      "    accuracy                           1.00     11974\n",
      "   macro avg       1.00      1.00      1.00     11974\n",
      "weighted avg       1.00      1.00      1.00     11974\n",
      "\n"
     ]
    }
   ],
   "source": [
    "# Classification report\n",
    "print(classification_report(y_test, y_pred))"
   ]
  },
  {
   "cell_type": "markdown",
   "id": "5eefab56",
   "metadata": {
    "papermill": {
     "duration": 0.045473,
     "end_time": "2021-07-19T05:51:03.178548",
     "exception": false,
     "start_time": "2021-07-19T05:51:03.133075",
     "status": "completed"
    },
    "tags": []
   },
   "source": [
    "### Conclusion"
   ]
  },
  {
   "cell_type": "markdown",
   "id": "9dc03cb6",
   "metadata": {
    "papermill": {
     "duration": 0.045296,
     "end_time": "2021-07-19T05:51:03.269447",
     "exception": false,
     "start_time": "2021-07-19T05:51:03.224151",
     "status": "completed"
    },
    "tags": []
   },
   "source": [
    "The trained model shows a weighted average accuracy of `99.9%`, so the evaluation metric of >95% has been met."
   ]
  },
  {
   "cell_type": "markdown",
   "id": "46a2480e",
   "metadata": {
    "papermill": {
     "duration": 0.046281,
     "end_time": "2021-07-19T05:51:03.361351",
     "exception": false,
     "start_time": "2021-07-19T05:51:03.315070",
     "status": "completed"
    },
    "tags": []
   },
   "source": [
    "### Feature Importance"
   ]
  },
  {
   "cell_type": "code",
   "execution_count": 30,
   "id": "07b15526",
   "metadata": {
    "execution": {
     "iopub.execute_input": "2021-07-19T05:51:03.455962Z",
     "iopub.status.busy": "2021-07-19T05:51:03.455333Z",
     "iopub.status.idle": "2021-07-19T05:51:03.459857Z",
     "shell.execute_reply": "2021-07-19T05:51:03.460313Z",
     "shell.execute_reply.started": "2021-07-19T05:50:07.707148Z"
    },
    "papermill": {
     "duration": 0.053288,
     "end_time": "2021-07-19T05:51:03.460486",
     "exception": false,
     "start_time": "2021-07-19T05:51:03.407198",
     "status": "completed"
    },
    "tags": []
   },
   "outputs": [
    {
     "data": {
      "text/plain": [
       "5"
      ]
     },
     "execution_count": 30,
     "metadata": {},
     "output_type": "execute_result"
    }
   ],
   "source": [
    "# Find feature importance of ideal model\n",
    "len(model.feature_importances_)"
   ]
  },
  {
   "cell_type": "code",
   "execution_count": 31,
   "id": "e1a4718f",
   "metadata": {
    "execution": {
     "iopub.execute_input": "2021-07-19T05:51:03.555555Z",
     "iopub.status.busy": "2021-07-19T05:51:03.554947Z",
     "iopub.status.idle": "2021-07-19T05:51:03.560485Z",
     "shell.execute_reply": "2021-07-19T05:51:03.561013Z",
     "shell.execute_reply.started": "2021-07-19T05:50:07.718567Z"
    },
    "papermill": {
     "duration": 0.05499,
     "end_time": "2021-07-19T05:51:03.561178",
     "exception": false,
     "start_time": "2021-07-19T05:51:03.506188",
     "status": "completed"
    },
    "tags": []
   },
   "outputs": [
    {
     "data": {
      "text/plain": [
       "array([6.15653969e-04, 8.30134711e-03, 2.86926259e-01, 7.75522154e-03,\n",
       "       6.96401519e-01])"
      ]
     },
     "execution_count": 31,
     "metadata": {},
     "output_type": "execute_result"
    }
   ],
   "source": [
    "model.feature_importances_"
   ]
  },
  {
   "cell_type": "code",
   "execution_count": 32,
   "id": "1f678edd",
   "metadata": {
    "execution": {
     "iopub.execute_input": "2021-07-19T05:51:03.660945Z",
     "iopub.status.busy": "2021-07-19T05:51:03.660305Z",
     "iopub.status.idle": "2021-07-19T05:51:03.817171Z",
     "shell.execute_reply": "2021-07-19T05:51:03.817618Z",
     "shell.execute_reply.started": "2021-07-19T05:50:07.732014Z"
    },
    "papermill": {
     "duration": 0.209477,
     "end_time": "2021-07-19T05:51:03.817793",
     "exception": false,
     "start_time": "2021-07-19T05:51:03.608316",
     "status": "completed"
    },
    "tags": []
   },
   "outputs": [
    {
     "data": {
      "image/png": "[encoded data removed]",
      "text/plain": [
       "<Figure size 432x288 with 1 Axes>"
      ]
     },
     "metadata": {
      "needs_background": "light"
     },
     "output_type": "display_data"
    }
   ],
   "source": [
    "# Helper function for plotting feature importance\n",
    "def plot_features(columns, importances,n=20):\n",
    "    df = (pd.DataFrame({\"features\": columns,\n",
    "                       \"feature_importances\": importances})\n",
    "         .sort_values(\"feature_importances\", ascending=False)\n",
    "         .reset_index(drop=True))\n",
    "    # Plot dataframe\n",
    "    fix, ax = plt.subplots()\n",
    "    ax.barh(df[\"features\"][:n], df[\"feature_importances\"][:20])\n",
    "    ax.set_ylabel(\"Features\")\n",
    "    ax.set_xlabel(\"Feature Importance\")\n",
    "    ax.invert_yaxis()\n",
    "    \n",
    "plot_features(X_train.columns, model.feature_importances_)"
   ]
  },
  {
   "cell_type": "markdown",
   "id": "7b85a6d7",
   "metadata": {
    "papermill": {
     "duration": 0.048221,
     "end_time": "2021-07-19T05:51:03.919558",
     "exception": false,
     "start_time": "2021-07-19T05:51:03.871337",
     "status": "completed"
    },
    "tags": []
   },
   "source": [
    "`weight` seems to be an extremely significant determinant for the model relative to the other features"
   ]
  }
 ],
 "metadata": {
  "kernelspec": {
   "display_name": "Python 3",
   "language": "python",
   "name": "python3"
  },
  "language_info": {
   "codemirror_mode": {
    "name": "ipython",
    "version": 3
   },
   "file_extension": ".py",
   "mimetype": "text/x-python",
   "name": "python",
   "nbconvert_exporter": "python",
   "pygments_lexer": "ipython3",
   "version": "3.7.10"
  },
  "papermill": {
   "default_parameters": {},
   "duration": 19.826821,
   "end_time": "2021-07-19T05:51:05.355240",
   "environment_variables": {},
   "exception": null,
   "input_path": "__notebook__.ipynb",
   "output_path": "__notebook__.ipynb",
   "parameters": {},
   "start_time": "2021-07-19T05:50:45.528419",
   "version": "2.3.3"
  }
 },
 "nbformat": 4,
 "nbformat_minor": 5
}
